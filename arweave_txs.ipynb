{
 "cells": [
  {
   "cell_type": "markdown",
   "metadata": {},
   "source": [
    "## Notebook overview\n",
    "A graphql query to get Arweave tx header data from random block samples. \n",
    "\n",
    "The query is executed on the arweave.net subgraph gateway, currently operated by ar.io\n",
    "\n",
    "### to do\n",
    "- add backoff to transport"
   ]
  },
  {
   "cell_type": "code",
   "execution_count": 118,
   "metadata": {},
   "outputs": [],
   "source": [
    "# libraries\n",
    "import pandas as pd\n",
    "import numpy as np\n",
    "from gql import Client, gql\n",
    "from graphql import print_ast\n",
    "from gql.transport.aiohttp import AIOHTTPTransport\n",
    "import random\n",
    "import asyncio\n",
    "import os"
   ]
  },
  {
   "cell_type": "code",
   "execution_count": null,
   "metadata": {},
   "outputs": [],
   "source": [
    "# get working directory\n",
    "wd_path = os.getcwd()"
   ]
  },
  {
   "cell_type": "code",
   "execution_count": 58,
   "metadata": {},
   "outputs": [],
   "source": [
    "# initial block params\n",
    "\n",
    "# set initial block range\n",
    "max_block = 1391438\n",
    "min_block = 1200000\n",
    "\n",
    "# sample size\n",
    "block_sample_size = 10000"
   ]
  },
  {
   "cell_type": "code",
   "execution_count": 59,
   "metadata": {},
   "outputs": [],
   "source": [
    "# generic query\n",
    "# construct generic query. Note, max page results are 100\n",
    "query = gql('''\n",
    "    query getTransactions($cursor: String, $minBlock: Int, $maxBlock: Int) {\n",
    "        transactions(block: {min: $minBlock, max: $maxBlock}, bundledIn: null, first: 50, after: $cursor) {\n",
    "            pageInfo {\n",
    "                hasNextPage\n",
    "            }\n",
    "            edges {\n",
    "                cursor\n",
    "                node {\n",
    "                    id\n",
    "                    fee {\n",
    "                        ar\n",
    "                    }\n",
    "                    block {\n",
    "                        timestamp\n",
    "                        height\n",
    "                    }\n",
    "                    data {\n",
    "                        size\n",
    "                    }\n",
    "                }\n",
    "            }\n",
    "        }\n",
    "    }\n",
    "''')"
   ]
  },
  {
   "cell_type": "code",
   "execution_count": 62,
   "metadata": {},
   "outputs": [],
   "source": [
    "async def fetch_data(next_cursor, query, random_block_i, block_i, transaction_data, i):\n",
    "\n",
    "    # create transport\n",
    "    # ar.io endpoint\n",
    "    transport = AIOHTTPTransport(url=\"https://arweave.net/graphql\")\n",
    "\n",
    "    # Create a GraphQL client\n",
    "    async with Client(transport=transport, fetch_schema_from_transport=False) as session:\n",
    "            \n",
    "            try:\n",
    "                # Execute the GraphQL query with cursor as a variable\n",
    "                result = await session.execute(query, variable_values={\"cursor\": next_cursor, \"minBlock\": random_block_i, \"maxBlock\": random_block_i})\n",
    "\n",
    "                # Process the result and append to master list\n",
    "                for transaction in result[\"transactions\"][\"edges\"]:\n",
    "                    transaction_data.append({\n",
    "                        \"hash\": transaction['node']['id'],\n",
    "                        \"height\": transaction['node']['block']['height'],\n",
    "                        \"timestamp\": transaction['node']['block']['timestamp'],\n",
    "                        \"ar_fee\": transaction['node']['fee']['ar'],\n",
    "                        \"data_size_bytes\": transaction['node']['data']['size']\n",
    "                    })\n",
    "\n",
    "                    # capture the last record's cursor\n",
    "                    next_cursor = transaction['cursor']\n",
    "\n",
    "                #tell us how many loops have completed and query result count\n",
    "                i = i + 1\n",
    "\n",
    "                # Pagination: fetch next page if hasNextPage is True\n",
    "                page_info = result[\"transactions\"][\"pageInfo\"]\n",
    "\n",
    "                if page_info[\"hasNextPage\"]:\n",
    "                    await fetch_data(next_cursor, query, random_block_i, block_i, transaction_data, i)\n",
    "\n",
    "                # print some logs\n",
    "                print(f\"loop count: {block_i}; block_i: {random_block_i}; attempt: {i}; objects returned: {len(result['transactions']['edges'])}; cursor: {next_cursor}; next page: {page_info['hasNextPage']}\")\n",
    "\n",
    "            except asyncio.TimeoutError:\n",
    "                print('Timeout error. Query results processed.')\n",
    "            \n",
    "            return transaction_data\n",
    "\n",
    "# call main - get 1 random block for each call\n",
    "async def appendList(next_cursor, query, random_block_i, block_i, transaction_data, i):\n",
    "\n",
    "    return await fetch_data(next_cursor, query, random_block_i, block_i, transaction_data, i)"
   ]
  },
  {
   "cell_type": "code",
   "execution_count": null,
   "metadata": {},
   "outputs": [],
   "source": [
    "# Loop to sample blocks and get tx data\n",
    "\n",
    "# create empty master list to append to\n",
    "block_transactions_master = []\n",
    "\n",
    "for block_i in range(block_sample_size):\n",
    "    \n",
    "    # get random block number in range\n",
    "    random_block_i = random.randint(min_block,max_block)\n",
    "\n",
    "    # loop cursor\n",
    "    i = 0\n",
    "\n",
    "    # empty list to hold data\n",
    "    transaction_data = []\n",
    "\n",
    "    # create next_cursor variable with default value None\n",
    "    next_cursor = None\n",
    "\n",
    "    # get the block txs\n",
    "    block_transactions_master.append(await appendList(next_cursor, query, random_block_i, block_i, transaction_data, i))\n",
    "\n",
    "print('Finished looping')\n",
    "\n",
    "# flaten list\n",
    "block_transactions_master = [item for sublist in block_transactions_master for item in sublist]\n",
    "\n",
    "df_transactions = pd.DataFrame(block_transactions_master)"
   ]
  },
  {
   "cell_type": "code",
   "execution_count": null,
   "metadata": {},
   "outputs": [],
   "source": [
    "# export to csv\n",
    "df_transactions.to_csv(f'{wd_path}/weave_txs.csv', index=False)"
   ]
  }
 ],
 "metadata": {
  "kernelspec": {
   "display_name": "base",
   "language": "python",
   "name": "python3"
  },
  "language_info": {
   "codemirror_mode": {
    "name": "ipython",
    "version": 3
   },
   "file_extension": ".py",
   "mimetype": "text/x-python",
   "name": "python",
   "nbconvert_exporter": "python",
   "pygments_lexer": "ipython3",
   "version": "3.8.8"
  }
 },
 "nbformat": 4,
 "nbformat_minor": 2
}
